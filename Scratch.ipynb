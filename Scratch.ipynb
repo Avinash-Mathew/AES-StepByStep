{
 "cells": [
  {
   "cell_type": "code",
   "execution_count": 8,
   "id": "5a6ffcf8-2ad5-4cb2-9d47-2299b0c7b79e",
   "metadata": {},
   "outputs": [
    {
     "data": {
      "text/plain": [
       "'10111010'"
      ]
     },
     "execution_count": 8,
     "metadata": {},
     "output_type": "execute_result"
    }
   ],
   "source": [
    "def xor_binarylist(binary_list):\n",
    "    result = []\n",
    "    for i in range(8):\n",
    "        bit_op = '0'\n",
    "        for binary in binary_list:\n",
    "            if binary[i] != bit_op:\n",
    "                bit_op = '1'\n",
    "            else:\n",
    "                bit_op = '0'\n",
    "        result.append(bit_op)\n",
    "\n",
    "    return ''.join(result)\n",
    "            \n",
    "            \n",
    "            \n",
    "\n",
    "\n",
    "xor_binarylist(['11000110', '01110001', '10101111', '10100010'])"
   ]
  }
 ],
 "metadata": {
  "kernelspec": {
   "display_name": "SageMath 10.5",
   "language": "sage",
   "name": "sagemath"
  },
  "language_info": {
   "codemirror_mode": {
    "name": "ipython",
    "version": 3
   },
   "file_extension": ".py",
   "mimetype": "text/x-python",
   "name": "python",
   "nbconvert_exporter": "python",
   "pygments_lexer": "ipython3",
   "version": "3.12.9"
  }
 },
 "nbformat": 4,
 "nbformat_minor": 5
}
