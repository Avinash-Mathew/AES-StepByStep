{
 "cells": [
  {
   "cell_type": "code",
   "execution_count": 12,
   "id": "5a6ffcf8-2ad5-4cb2-9d47-2299b0c7b79e",
   "metadata": {},
   "outputs": [
    {
     "name": "stdout",
     "output_type": "stream",
     "text": [
      "+----+---+---+\n",
      "| a1 | 2 | 3 |\n",
      "+----+---+---+\n",
      "| a4 | 5 | 6 |\n",
      "+----+---+---+\n",
      "| i7 | 8 | 9 |\n",
      "+----+---+---+\n"
     ]
    }
   ],
   "source": [
    "import numpy as np\n",
    "\n",
    "arr = np.array([\n",
    "    ['a1', 2, 3],\n",
    "    ['a4', 5, 6],\n",
    "    ['i7', 8, 9]\n",
    "])\n",
    "\n",
    "\n",
    "\n"
   ]
  }
 ],
 "metadata": {
  "kernelspec": {
   "display_name": "SageMath 10.5",
   "language": "sage",
   "name": "sagemath"
  },
  "language_info": {
   "codemirror_mode": {
    "name": "ipython",
    "version": 3
   },
   "file_extension": ".py",
   "mimetype": "text/x-python",
   "name": "python",
   "nbconvert_exporter": "python",
   "pygments_lexer": "ipython3",
   "version": "3.12.9"
  }
 },
 "nbformat": 4,
 "nbformat_minor": 5
}
