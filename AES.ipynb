{
 "cells": [
  {
   "cell_type": "markdown",
   "id": "a564ce4b-262e-4f09-8753-95ac00892341",
   "metadata": {},
   "source": [
    "# AES - Step By Step Guide"
   ]
  },
  {
   "cell_type": "markdown",
   "id": "bc52dbeb-6e8b-4da2-9771-9cace84ac396",
   "metadata": {},
   "source": [
    "## Encryption"
   ]
  },
  {
   "cell_type": "markdown",
   "id": "d5be7ca4-de97-42a3-bb4f-a3a6679794cc",
   "metadata": {},
   "source": [
    "### Imports and Utility Functions"
   ]
  },
  {
   "cell_type": "code",
   "execution_count": 172,
   "id": "08773396-f5e0-4424-bf53-42f13a597227",
   "metadata": {},
   "outputs": [],
   "source": [
    "import numpy as np"
   ]
  },
  {
   "cell_type": "code",
   "execution_count": 173,
   "id": "b0045be3-4d83-4dba-a044-b106e5dd2935",
   "metadata": {},
   "outputs": [],
   "source": [
    "SBOX = {\n",
    "    \"00\": \"63\", \"01\": \"7c\", \"02\": \"77\", \"03\": \"7b\", \"04\": \"f2\", \"05\": \"6b\", \"06\": \"6f\", \"07\": \"c5\",\n",
    "    \"08\": \"30\", \"09\": \"01\", \"0a\": \"67\", \"0b\": \"2b\", \"0c\": \"fe\", \"0d\": \"d7\", \"0e\": \"ab\", \"0f\": \"76\",\n",
    "    \"10\": \"ca\", \"11\": \"82\", \"12\": \"c9\", \"13\": \"7d\", \"14\": \"fa\", \"15\": \"59\", \"16\": \"47\", \"17\": \"f0\",\n",
    "    \"18\": \"ad\", \"19\": \"d4\", \"1a\": \"a2\", \"1b\": \"af\", \"1c\": \"9c\", \"1d\": \"a4\", \"1e\": \"72\", \"1f\": \"c0\",\n",
    "    \"20\": \"b7\", \"21\": \"fd\", \"22\": \"93\", \"23\": \"26\", \"24\": \"36\", \"25\": \"3f\", \"26\": \"f7\", \"27\": \"cc\",\n",
    "    \"28\": \"34\", \"29\": \"a5\", \"2a\": \"e5\", \"2b\": \"f1\", \"2c\": \"71\", \"2d\": \"d8\", \"2e\": \"31\", \"2f\": \"15\",\n",
    "    \"30\": \"04\", \"31\": \"c7\", \"32\": \"23\", \"33\": \"c3\", \"34\": \"18\", \"35\": \"96\", \"36\": \"05\", \"37\": \"9a\",\n",
    "    \"38\": \"07\", \"39\": \"12\", \"3a\": \"80\", \"3b\": \"e2\", \"3c\": \"eb\", \"3d\": \"27\", \"3e\": \"b2\", \"3f\": \"75\",\n",
    "    \"40\": \"09\", \"41\": \"83\", \"42\": \"2c\", \"43\": \"1a\", \"44\": \"1b\", \"45\": \"6e\", \"46\": \"5a\", \"47\": \"a0\",\n",
    "    \"48\": \"52\", \"49\": \"3b\", \"4a\": \"d6\", \"4b\": \"b3\", \"4c\": \"29\", \"4d\": \"e3\", \"4e\": \"2f\", \"4f\": \"84\",\n",
    "    \"50\": \"53\", \"51\": \"d1\", \"52\": \"00\", \"53\": \"ed\", \"54\": \"20\", \"55\": \"fc\", \"56\": \"b1\", \"57\": \"5b\",\n",
    "    \"58\": \"6a\", \"59\": \"cb\", \"5a\": \"be\", \"5b\": \"39\", \"5c\": \"4a\", \"5d\": \"4c\", \"5e\": \"58\", \"5f\": \"cf\",\n",
    "    \"60\": \"d0\", \"61\": \"ef\", \"62\": \"aa\", \"63\": \"fb\", \"64\": \"43\", \"65\": \"4d\", \"66\": \"33\", \"67\": \"85\",\n",
    "    \"68\": \"45\", \"69\": \"f9\", \"6a\": \"02\", \"6b\": \"7f\", \"6c\": \"50\", \"6d\": \"3c\", \"6e\": \"9f\", \"6f\": \"a8\",\n",
    "    \"70\": \"51\", \"71\": \"a3\", \"72\": \"40\", \"73\": \"8f\", \"74\": \"92\", \"75\": \"9d\", \"76\": \"38\", \"77\": \"f5\",\n",
    "    \"78\": \"bc\", \"79\": \"b6\", \"7a\": \"da\", \"7b\": \"21\", \"7c\": \"10\", \"7d\": \"ff\", \"7e\": \"f3\", \"7f\": \"d2\",\n",
    "    \"80\": \"cd\", \"81\": \"0c\", \"82\": \"13\", \"83\": \"ec\", \"84\": \"5f\", \"85\": \"97\", \"86\": \"44\", \"87\": \"17\",\n",
    "    \"88\": \"c4\", \"89\": \"a7\", \"8a\": \"7e\", \"8b\": \"3d\", \"8c\": \"64\", \"8d\": \"5d\", \"8e\": \"19\", \"8f\": \"73\",\n",
    "    \"90\": \"60\", \"91\": \"81\", \"92\": \"4f\", \"93\": \"dc\", \"94\": \"22\", \"95\": \"2a\", \"96\": \"90\", \"97\": \"88\",\n",
    "    \"98\": \"46\", \"99\": \"ee\", \"9a\": \"b8\", \"9b\": \"14\", \"9c\": \"de\", \"9d\": \"5e\", \"9e\": \"0b\", \"9f\": \"db\",\n",
    "    \"a0\": \"e0\", \"a1\": \"32\", \"a2\": \"3a\", \"a3\": \"0a\", \"a4\": \"49\", \"a5\": \"06\", \"a6\": \"24\", \"a7\": \"5c\",\n",
    "    \"a8\": \"c2\", \"a9\": \"d3\", \"aa\": \"ac\", \"ab\": \"62\", \"ac\": \"91\", \"ad\": \"95\", \"ae\": \"e4\", \"af\": \"79\",\n",
    "    \"b0\": \"e7\", \"b1\": \"c8\", \"b2\": \"37\", \"b3\": \"6d\", \"b4\": \"8d\", \"b5\": \"d5\", \"b6\": \"4e\", \"b7\": \"a9\",\n",
    "    \"b8\": \"6c\", \"b9\": \"56\", \"ba\": \"f4\", \"bb\": \"ea\", \"bc\": \"65\", \"bd\": \"7a\", \"be\": \"ae\", \"bf\": \"08\",\n",
    "    \"c0\": \"ba\", \"c1\": \"78\", \"c2\": \"25\", \"c3\": \"2e\", \"c4\": \"1c\", \"c5\": \"a6\", \"c6\": \"b4\", \"c7\": \"c6\",\n",
    "    \"c8\": \"e8\", \"c9\": \"dd\", \"ca\": \"74\", \"cb\": \"1f\", \"cc\": \"4b\", \"cd\": \"bd\", \"ce\": \"8b\", \"cf\": \"8a\",\n",
    "    \"d0\": \"70\", \"d1\": \"3e\", \"d2\": \"b5\", \"d3\": \"66\", \"d4\": \"48\", \"d5\": \"03\", \"d6\": \"f6\", \"d7\": \"0e\",\n",
    "    \"d8\": \"61\", \"d9\": \"35\", \"da\": \"57\", \"db\": \"b9\", \"dc\": \"86\", \"dd\": \"c1\", \"de\": \"1d\", \"df\": \"9e\",\n",
    "    \"e0\": \"e1\", \"e1\": \"f8\", \"e2\": \"98\", \"e3\": \"11\", \"e4\": \"69\", \"e5\": \"d9\", \"e6\": \"8e\", \"e7\": \"94\",\n",
    "    \"e8\": \"9b\", \"e9\": \"1e\", \"ea\": \"87\", \"eb\": \"e9\", \"ec\": \"ce\", \"ed\": \"55\", \"ee\": \"28\", \"ef\": \"df\",\n",
    "    \"f0\": \"8c\", \"f1\": \"a1\", \"f2\": \"89\", \"f3\": \"0d\", \"f4\": \"bf\", \"f5\": \"e6\", \"f6\": \"42\", \"f7\": \"68\",\n",
    "    \"f8\": \"41\", \"f9\": \"99\", \"fa\": \"2d\", \"fb\": \"0f\", \"fc\": \"b0\", \"fd\": \"54\", \"fe\": \"bb\", \"ff\": \"16\"\n",
    "}\n",
    "\n",
    "mix_col_matrix = np.array([\n",
    "    ['02','03','01','01'],\n",
    "    ['01','02','03','01'],\n",
    "    ['01','01','02','03'],\n",
    "    ['03','01','01','02']\n",
    "])\n",
    "\n",
    "def string_to_hex(string):\n",
    "    hex_string = \"\"\n",
    "    for ch in string:\n",
    "        hex_string += hex(ord(ch)).lstrip(\"0x\")\n",
    "    return hex_string\n",
    "\n",
    "def hexstring_to_matrix(string):\n",
    "    bytes = [string[i:i+2]for i in range (0, len(string), 2)]\n",
    "    matrix = np.array(bytes).reshape(4, 4, order='F')\n",
    "    return matrix\n",
    "\n",
    "def rot_nib(nib):\n",
    "    return nib[1:] + nib[:1]\n",
    "\n",
    "def poly_to_binary(poly):\n",
    "    poly = poly.polynomial()\n",
    "    binary_rep = [poly.coefficient(i) for i in range(8)]\n",
    "    return ''.join(str(b) for b in reversed(binary_rep))\n",
    "\n",
    "def get_rcon(i):\n",
    "    # Define the base field GF(2)\n",
    "    F2 = GF(2)  \n",
    "    \n",
    "    # Define the polynomial ring over GF(2)\n",
    "    R.<x> = PolynomialRing(F2)\n",
    "    \n",
    "    # Define the AES irreducible polynomial x^8 + x^3 + x + 1\n",
    "    aes_poly = x^8 + x^4 + x^3 + x + 1  \n",
    "    \n",
    "    # Define the finite field GF(2^8) with AES irreducible polynomial\n",
    "    F.<x> = GF(2**8, modulus=aes_poly)\n",
    "    \n",
    "    # Compute Rcon\n",
    "    if i == 1:\n",
    "        return poly_to_binary(x^0)  # 2^0 = 1\n",
    "    else:\n",
    "        return poly_to_binary(x^(i-1))  # 2^(i-1) in GF(2^8)\n",
    "\n",
    "def hexlist_to_binarylist(hexlist):\n",
    "    return [bin(int(h, 16))[2:].zfill(8) for h in hexlist]\n",
    "\n",
    "def xor_binarylist(binary_list):\n",
    "    result = []\n",
    "    for i in range(8):\n",
    "        bit_op = '0'\n",
    "        for binary in binary_list:\n",
    "            if binary[i] != bit_op:\n",
    "                bit_op = '1'\n",
    "            else:\n",
    "                bit_op = '0'\n",
    "        result.append(bit_op)\n",
    "\n",
    "    return ''.join(result)\n",
    "\n",
    "def xor_binarylists(list1, list2):\n",
    "    xor_results = []\n",
    "\n",
    "    for b1, b2 in zip(list1, list2):\n",
    "        # Perform XOR operation bit by bit\n",
    "        xor_result = ''.join('1' if b1[i] != b2[i] else '0' for i in range(len(b1)))\n",
    "        xor_results.append(xor_result)\n",
    "    \n",
    "    return xor_results\n",
    "\n",
    "def binarylist_to_hexlist(binary_values):\n",
    "    return [hex(int(b, 2))[2:].zfill(2) for b in binary_values]\n",
    "\n",
    "def gen_key_words(w):\n",
    "    words = w\n",
    "    for i in range(4, 44):\n",
    "        if i%4 == 0:\n",
    "            left_circular_shift_op = rot_nib(w[i-1])\n",
    "            byte_substitution_op = [SBOX[byte] for byte in left_circular_shift_op]\n",
    "            adding_round_const_op = xor_binarylists(hexlist_to_binarylist(byte_substitution_op), [get_rcon(i//4), '00000000', '00000000', '00000000'])\n",
    "            g_op = adding_round_const_op\n",
    "            word_op = binarylist_to_hexlist(xor_binarylists(hexlist_to_binarylist(w[i-4]), g_op))\n",
    "            words.append(word_op)\n",
    "\n",
    "        else:\n",
    "            word_op = binarylist_to_hexlist(xor_binarylists(hexlist_to_binarylist(w[i-1]), hexlist_to_binarylist(w[i-4])))\n",
    "            words.append(word_op)\n",
    "\n",
    "    return words\n",
    "\n",
    "def binary_to_poly(binary):\n",
    "    R = PolynomialRing(GF(2), 'x')\n",
    "    x = R.gen()\n",
    "    poly = sum(int(bit) * x^i for i, bit in enumerate(reversed(binary)))\n",
    "    return poly"
   ]
  },
  {
   "cell_type": "markdown",
   "id": "3ffa5182-2f3e-4107-956f-17fd56aedc0c",
   "metadata": {},
   "source": [
    "### Define the key (128 bits) and the plaintext (128 bits) to be encrypted"
   ]
  },
  {
   "cell_type": "code",
   "execution_count": 174,
   "id": "28196569-9b58-4257-b062-1c7caa87f68c",
   "metadata": {},
   "outputs": [],
   "source": [
    "plaintext = \"Two One Nine Two\"\n",
    "key = \"Thats my Kung Fu\""
   ]
  },
  {
   "cell_type": "markdown",
   "id": "bb9ff058-09b3-480e-b7fe-ef0cabd388a1",
   "metadata": {},
   "source": [
    "### Get the hex values of the plaintext and the key"
   ]
  },
  {
   "cell_type": "code",
   "execution_count": 175,
   "id": "a7803fa8-b361-4141-981e-93923660123e",
   "metadata": {},
   "outputs": [
    {
     "name": "stdout",
     "output_type": "stream",
     "text": [
      "Plaintext (Hex): 54776f204f6e65204e696e652054776f\n",
      "Key (Hex): 5468617473206d79204b756e67204675\n"
     ]
    }
   ],
   "source": [
    "plaintext_hex = string_to_hex(plaintext)\n",
    "key_hex = string_to_hex(key)\n",
    "print(\"Plaintext (Hex): \" + plaintext_hex)\n",
    "print(\"Key (Hex): \" + key_hex)"
   ]
  },
  {
   "cell_type": "markdown",
   "id": "86a0b15d-2240-424a-84fb-9199aadd1244",
   "metadata": {},
   "source": [
    "### Arrange the key (hex) and plaintext (hex) into a matrix"
   ]
  },
  {
   "cell_type": "code",
   "execution_count": 176,
   "id": "217ae77d-2fd8-48a9-9e5a-3dfbdffce157",
   "metadata": {},
   "outputs": [
    {
     "name": "stdout",
     "output_type": "stream",
     "text": [
      "P = \n",
      "\n",
      "[['54' '4f' '4e' '20']\n",
      " ['77' '6e' '69' '54']\n",
      " ['6f' '65' '6e' '77']\n",
      " ['20' '20' '65' '6f']]\n",
      "\n",
      "\n",
      "K = \n",
      "\n",
      "[['54' '73' '20' '67']\n",
      " ['68' '20' '4b' '20']\n",
      " ['61' '6d' '75' '46']\n",
      " ['74' '79' '6e' '75']]\n"
     ]
    }
   ],
   "source": [
    "plaintext_matrix = hexstring_to_matrix(plaintext_hex)\n",
    "print(\"P = \\n\")\n",
    "print(plaintext_matrix)\n",
    "print(\"\\n\")\n",
    "key_m = hexstring_to_matrix(key_hex)\n",
    "print(\"K = \\n\")\n",
    "print(key_m)"
   ]
  },
  {
   "cell_type": "markdown",
   "id": "a584deb6-6aa1-48de-afd1-35844d1b89ce",
   "metadata": {},
   "source": [
    "### Key Expansion: Generate all round keys"
   ]
  },
  {
   "cell_type": "code",
   "execution_count": 177,
   "id": "cb18f226-42aa-4391-8be0-c8359f59502b",
   "metadata": {},
   "outputs": [
    {
     "name": "stdout",
     "output_type": "stream",
     "text": [
      "\n",
      "Key_0 = \n",
      "\n",
      "[['54' '73' '20' '67']\n",
      " ['68' '20' '4b' '20']\n",
      " ['61' '6d' '75' '46']\n",
      " ['74' '79' '6e' '75']]\n",
      "\n",
      "Key_1 = \n",
      "\n",
      "[['e2' '91' 'b1' 'd6']\n",
      " ['32' '12' '59' '79']\n",
      " ['fc' '91' 'e4' 'a2']\n",
      " ['f1' '88' 'e6' '93']]\n",
      "\n",
      "Key_2 = \n",
      "\n",
      "[['56' 'c7' '76' 'a0']\n",
      " ['08' '1a' '43' '3a']\n",
      " ['20' 'b1' '55' 'f7']\n",
      " ['07' '8f' '69' 'fa']]\n",
      "\n",
      "Key_3 = \n",
      "\n",
      "[['d2' '15' '63' 'c3']\n",
      " ['60' '7a' '39' '03']\n",
      " ['0d' 'bc' 'e9' '1e']\n",
      " ['e7' '68' '01' 'fb']]\n",
      "\n",
      "Key_4 = \n",
      "\n",
      "[['a1' 'b4' 'd7' '14']\n",
      " ['12' '68' '51' '52']\n",
      " ['02' 'be' '57' '49']\n",
      " ['c9' 'a1' 'a0' '5b']]\n",
      "\n",
      "Key_5 = \n",
      "\n",
      "[['b1' '05' 'd2' 'c6']\n",
      " ['29' '41' '10' '42']\n",
      " ['3b' '85' 'd2' '9b']\n",
      " ['33' '92' '32' '69']]\n",
      "\n",
      "Key_6 = \n",
      "\n",
      "[['bd' 'b8' '6a' 'ac']\n",
      " ['3d' '7c' '6c' '2e']\n",
      " ['c2' '47' '95' '0e']\n",
      " ['87' '15' '27' '4e']]\n",
      "\n",
      "Key_7 = \n",
      "\n",
      "[['cc' '74' '1e' 'b2']\n",
      " ['96' 'ea' '86' 'a8']\n",
      " ['ed' 'aa' '3f' '31']\n",
      " ['16' '03' '24' '6a']]\n",
      "\n",
      "Key_8 = \n",
      "\n",
      "[['8e' 'fa' 'e4' '56']\n",
      " ['51' 'bb' '3d' '95']\n",
      " ['ef' '45' '7a' '4b']\n",
      " ['21' '22' '06' '6c']]\n",
      "\n",
      "Key_9 = \n",
      "\n",
      "[['bf' '45' 'a1' 'f7']\n",
      " ['e2' '59' '64' 'f1']\n",
      " ['bf' 'fa' '80' 'cb']\n",
      " ['90' 'b2' 'b4' 'd8']]\n",
      "\n",
      "Key_10 = \n",
      "\n",
      "[['28' '6d' 'cc' '3b']\n",
      " ['fd' 'a4' 'c0' '31']\n",
      " ['de' '24' 'a4' '6f']\n",
      " ['f8' '4a' 'fe' '26']]\n"
     ]
    }
   ],
   "source": [
    "w = []\n",
    "# w_0\n",
    "w.append(key_m[:,0].tolist())\n",
    "\n",
    "# w_1\n",
    "w.append(key_m[:,1].tolist())\n",
    "\n",
    "#w_2\n",
    "w.append(key_m[:,2].tolist())\n",
    "\n",
    "#w_3\n",
    "w.append(key_m[:,3].tolist())\n",
    "\n",
    "w = gen_key_words(w)\n",
    "\n",
    "round_keys = []\n",
    "for i in range(0, len(w), 4):\n",
    "    print(f\"\\nKey_{i//4} = \\n\")\n",
    "    k = np.array(w[i:i+4], dtype=str).T\n",
    "    print(k)\n",
    "    round_keys.append(k)"
   ]
  },
  {
   "cell_type": "markdown",
   "id": "a8d48510-6ad8-4d71-9f1d-3968e49d74ae",
   "metadata": {},
   "source": [
    "### Add Round key (0)"
   ]
  },
  {
   "cell_type": "code",
   "execution_count": 178,
   "id": "27babe26-56ca-4729-98bf-4f4f471217ad",
   "metadata": {},
   "outputs": [
    {
     "name": "stdout",
     "output_type": "stream",
     "text": [
      "[['00' '3c' '6e' '47']\n",
      " ['1f' '4e' '22' '74']\n",
      " ['0e' '08' '1b' '31']\n",
      " ['54' '59' '0b' '1a']]\n"
     ]
    }
   ],
   "source": [
    "# Convert hexadecimal strings to integers\n",
    "plaintext_matrix_int = np.vectorize(lambda x: int(x, 16))(plaintext_matrix)\n",
    "round_key_0_int = np.vectorize(lambda x: int(x, 16))(round_keys[0])\n",
    "\n",
    "# Perform XOR operation\n",
    "xor_result_0 = np.bitwise_xor(plaintext_matrix_int, round_key_0_int)\n",
    "\n",
    "# Convert back to hex (formatted as two-character hex values)\n",
    "state_matrix_0 = np.vectorize(lambda x: format(x, '02x'))(xor_result_0)\n",
    "\n",
    "# Print the XOR matrix result\n",
    "print(state_matrix_0)"
   ]
  },
  {
   "cell_type": "markdown",
   "id": "1271b2b8-fedc-4544-8239-c109e18425ca",
   "metadata": {},
   "source": [
    "### Round 1: Byte Substitution"
   ]
  },
  {
   "cell_type": "code",
   "execution_count": 179,
   "id": "52276735-1500-42f3-886a-8c212058c37d",
   "metadata": {},
   "outputs": [
    {
     "name": "stdout",
     "output_type": "stream",
     "text": [
      "[['63' 'eb' '9f' 'a0']\n",
      " ['c0' '2f' '93' '92']\n",
      " ['ab' '30' 'af' 'c7']\n",
      " ['20' 'cb' '2b' 'a2']]\n"
     ]
    }
   ],
   "source": [
    "state_matrix_1b = np.vectorize(lambda x: SBOX.get(x, '00'))(state_matrix_0)\n",
    "print(state_matrix_1b)"
   ]
  },
  {
   "cell_type": "markdown",
   "id": "80c47cf5-7d0d-4304-a109-09bc534eaaab",
   "metadata": {},
   "source": [
    "### Round 1: Shift Row"
   ]
  },
  {
   "cell_type": "code",
   "execution_count": 180,
   "id": "fde0feec-1f6e-4038-954f-954cdcf65530",
   "metadata": {},
   "outputs": [
    {
     "name": "stdout",
     "output_type": "stream",
     "text": [
      "[['63' 'eb' '9f' 'a0']\n",
      " ['2f' '93' '92' 'c0']\n",
      " ['af' 'c7' 'ab' '30']\n",
      " ['a2' '20' 'cb' '2b']]\n"
     ]
    }
   ],
   "source": [
    "state_matrix_1s = np.vstack([state_matrix_1b[0], np.roll(state_matrix_1b[1], 3), np.roll(state_matrix_1b[2], 2), np.roll(state_matrix_1b[3], 1)])\n",
    "\n",
    "print(state_matrix_1s)"
   ]
  },
  {
   "cell_type": "markdown",
   "id": "1ccce4b9-fdb3-4249-9455-685dbad43ee9",
   "metadata": {},
   "source": [
    "### Round 1: Mix Column"
   ]
  },
  {
   "cell_type": "code",
   "execution_count": 181,
   "id": "affac4a5-220b-47fb-8774-9204d2aa7878",
   "metadata": {},
   "outputs": [
    {
     "name": "stdout",
     "output_type": "stream",
     "text": [
      "[['ba' '84' 'e8' '1b']\n",
      " ['75' 'a4' '8d' '40']\n",
      " ['f4' '8d' '06' '7d']\n",
      " ['7a' '32' '0e' '5d']]\n"
     ]
    }
   ],
   "source": [
    "# Convert hex values of state_matrix_ls to binary\n",
    "state_matrix_1s_bin = np.apply_along_axis(hexlist_to_binarylist, axis = 1, arr= state_matrix_1s)\n",
    "\n",
    "# Convert hex values of mix_col_matrix to binary\n",
    "mix_col_matrix_bin = np.apply_along_axis(hexlist_to_binarylist, axis = 1, arr= mix_col_matrix)\n",
    "\n",
    "# Convert binary state_matrix to polynomial\n",
    "state_matrix_1s_poly = np.vectorize(binary_to_poly)(state_matrix_1s_bin)\n",
    "\n",
    "# Convert binary mix_col_matrix to polynomial\n",
    "mix_col_matrix_poly = np.vectorize(binary_to_poly)(mix_col_matrix_bin)\n",
    "\n",
    "# Perform matrix multiplication\n",
    "F2 = GF(2)  # Define GF(2)\n",
    "R.<x> = PolynomialRing(F2)\n",
    "aes_poly = x^8 + x^4 + x^3 + x + 1  # AES irreducible polynomial\n",
    "F.<a> = GF(2**8, modulus=aes_poly)  \n",
    "\n",
    "state_matrix_1m_bin = []\n",
    "for i in range(4):\n",
    "    rows = []\n",
    "    for j in range(4):\n",
    "        products = []\n",
    "        for k in range(4):\n",
    "            product = F(mix_col_matrix_poly[i, k]) * F(state_matrix_1s_poly[k, j])\n",
    "            product_bin = poly_to_binary(product)\n",
    "            products.append(product_bin)\n",
    "        rows.append(xor_binarylist(products))\n",
    "    state_matrix_1m_bin.append(rows)\n",
    "\n",
    "state_matrix_1m_bin = np.array(state_matrix_1m_bin)\n",
    "\n",
    "# Convert binary values of state matrix to hex values\n",
    "state_matrix_1m = np.apply_along_axis(binarylist_to_hexlist, axis = 1, arr = state_matrix_1m_bin)\n",
    "print(state_matrix_1m)"
   ]
  },
  {
   "cell_type": "markdown",
   "id": "a1047af2-73b8-4700-8300-cb5e7442cfc1",
   "metadata": {},
   "source": [
    "### Add Round Key (1)"
   ]
  },
  {
   "cell_type": "code",
   "execution_count": 182,
   "id": "9f74c56e-e151-4a6f-963f-c127c9510a87",
   "metadata": {},
   "outputs": [
    {
     "name": "stdout",
     "output_type": "stream",
     "text": [
      "[['58' '15' '59' 'cd']\n",
      " ['47' 'b6' 'd4' '39']\n",
      " ['08' '1c' 'e2' 'df']\n",
      " ['8b' 'ba' 'e8' 'ce']]\n"
     ]
    }
   ],
   "source": [
    "# Convert hexadecimal strings to integers\n",
    "state_matrix_1m_int = np.vectorize(lambda x: int(x, 16))(state_matrix_1m)\n",
    "round_key_1_int = np.vectorize(lambda x: int(x, 16))(round_keys[1])\n",
    "\n",
    "# Perform XOR operation\n",
    "xor_result_1 = np.bitwise_xor(state_matrix_1m_int, round_key_1_int)\n",
    "\n",
    "# Convert back to hex (formatted as two-character hex values)\n",
    "state_matrix_2 = np.vectorize(lambda x: format(x, '02x'))(xor_result_1)\n",
    "\n",
    "# Print the XOR matrix result\n",
    "print(state_matrix_2)"
   ]
  },
  {
   "cell_type": "markdown",
   "id": "b435169b-9f9a-4277-9de9-9fe75cc0c7a7",
   "metadata": {},
   "source": [
    "### Round 2: Byte Substitution"
   ]
  },
  {
   "cell_type": "code",
   "execution_count": 183,
   "id": "f1b98d0b-f9be-4ce7-9e49-da9c9eef7267",
   "metadata": {},
   "outputs": [
    {
     "name": "stdout",
     "output_type": "stream",
     "text": [
      "[['6a' '59' 'cb' 'bd']\n",
      " ['a0' '4e' '48' '12']\n",
      " ['30' '9c' '98' '9e']\n",
      " ['3d' 'f4' '9b' '8b']]\n"
     ]
    }
   ],
   "source": [
    "state_matrix_2b = np.vectorize(lambda x: SBOX.get(x, '00'))(state_matrix_2)\n",
    "print(state_matrix_2b)"
   ]
  },
  {
   "cell_type": "markdown",
   "id": "214aee53-ae00-4ec4-966a-542e1fad17ff",
   "metadata": {},
   "source": [
    "### Round 2: Shift Row"
   ]
  },
  {
   "cell_type": "code",
   "execution_count": 184,
   "id": "ea7dfbaa-7329-4a0f-8b29-f73f196a0683",
   "metadata": {},
   "outputs": [
    {
     "name": "stdout",
     "output_type": "stream",
     "text": [
      "[['6a' '59' 'cb' 'bd']\n",
      " ['4e' '48' '12' 'a0']\n",
      " ['98' '9e' '30' '9c']\n",
      " ['8b' '3d' 'f4' '9b']]\n"
     ]
    }
   ],
   "source": [
    "state_matrix_2s = np.vstack([state_matrix_2b[0], np.roll(state_matrix_2b[1], 3), np.roll(state_matrix_2b[2], 2), np.roll(state_matrix_2b[3], 1)])\n",
    "\n",
    "print(state_matrix_2s)"
   ]
  },
  {
   "cell_type": "markdown",
   "id": "eb7d065f-8e91-4672-ab6b-432a5da79c43",
   "metadata": {},
   "source": [
    "### Round 2: Mix columns"
   ]
  },
  {
   "cell_type": "code",
   "execution_count": 185,
   "id": "27cf4e1e-ce96-4c61-8558-d0f357b380ad",
   "metadata": {},
   "outputs": [
    {
     "name": "stdout",
     "output_type": "stream",
     "text": [
      "[['15' 'c9' '7f' '9d']\n",
      " ['ce' '4d' '4b' 'c2']\n",
      " ['89' '71' 'be' '88']\n",
      " ['65' '47' '97' 'cd']]\n"
     ]
    }
   ],
   "source": [
    "# Convert hex values of state_matrix_ls to binary\n",
    "state_matrix_2s_bin = np.apply_along_axis(hexlist_to_binarylist, axis = 1, arr= state_matrix_2s)\n",
    "\n",
    "# Convert hex values of mix_col_matrix to binary\n",
    "mix_col_matrix_bin = np.apply_along_axis(hexlist_to_binarylist, axis = 1, arr= mix_col_matrix)\n",
    "\n",
    "# Convert binary state_matrix to polynomial\n",
    "state_matrix_2s_poly = np.vectorize(binary_to_poly)(state_matrix_2s_bin)\n",
    "\n",
    "# Convert binary mix_col_matrix to polynomial\n",
    "mix_col_matrix_poly = np.vectorize(binary_to_poly)(mix_col_matrix_bin)\n",
    "\n",
    "# Perform matrix multiplication\n",
    "F2 = GF(2)  # Define GF(2)\n",
    "R.<x> = PolynomialRing(F2)\n",
    "aes_poly = x^8 + x^4 + x^3 + x + 1  # AES irreducible polynomial\n",
    "F.<a> = GF(2**8, modulus=aes_poly)  \n",
    "\n",
    "state_matrix_2m_bin = []\n",
    "for i in range(4):\n",
    "    rows = []\n",
    "    for j in range(4):\n",
    "        products = []\n",
    "        for k in range(4):\n",
    "            product = F(mix_col_matrix_poly[i, k]) * F(state_matrix_2s_poly[k, j])\n",
    "            product_bin = poly_to_binary(product)\n",
    "            products.append(product_bin)\n",
    "        rows.append(xor_binarylist(products))\n",
    "    state_matrix_2m_bin.append(rows)\n",
    "\n",
    "state_matrix_2m_bin = np.array(state_matrix_2m_bin)\n",
    "\n",
    "# Convert binary values of state matrix to hex values\n",
    "state_matrix_2m = np.apply_along_axis(binarylist_to_hexlist, axis = 1, arr = state_matrix_2m_bin)\n",
    "print(state_matrix_2m)"
   ]
  },
  {
   "cell_type": "markdown",
   "id": "9ccbf722-730f-48cc-8c44-bd1919dc3fa8",
   "metadata": {},
   "source": [
    "### Add Round key (2)"
   ]
  },
  {
   "cell_type": "code",
   "execution_count": 186,
   "id": "c5b6a38f-7c61-48f7-981f-dbb3b27a5c83",
   "metadata": {},
   "outputs": [
    {
     "name": "stdout",
     "output_type": "stream",
     "text": [
      "[['43' '0e' '09' '3d']\n",
      " ['c6' '57' '08' 'f8']\n",
      " ['a9' 'c0' 'eb' '7f']\n",
      " ['62' 'c8' 'fe' '37']]\n"
     ]
    }
   ],
   "source": [
    "# Convert hexadecimal strings to integers\n",
    "state_matrix_2m_int = np.vectorize(lambda x: int(x, 16))(state_matrix_2m)\n",
    "round_key_2_int = np.vectorize(lambda x: int(x, 16))(round_keys[2])\n",
    "\n",
    "# Perform XOR operation\n",
    "xor_result_2 = np.bitwise_xor(state_matrix_2m_int, round_key_2_int)\n",
    "\n",
    "# Convert back to hex (formatted as two-character hex values)\n",
    "state_matrix_3 = np.vectorize(lambda x: format(x, '02x'))(xor_result_2)\n",
    "\n",
    "# Print the XOR matrix result\n",
    "print(state_matrix_3)"
   ]
  },
  {
   "cell_type": "markdown",
   "id": "e800d35d-56d9-45de-bef3-677526d7c188",
   "metadata": {},
   "source": [
    "### Round 3: Byte Substitution"
   ]
  },
  {
   "cell_type": "code",
   "execution_count": 187,
   "id": "da38f269-d260-433b-8538-220b46b9c711",
   "metadata": {},
   "outputs": [
    {
     "name": "stdout",
     "output_type": "stream",
     "text": [
      "[['1a' 'ab' '01' '27']\n",
      " ['b4' '5b' '30' '41']\n",
      " ['d3' 'ba' 'e9' 'd2']\n",
      " ['aa' 'e8' 'bb' '9a']]\n"
     ]
    }
   ],
   "source": [
    "state_matrix_3b = np.vectorize(lambda x: SBOX.get(x, '00'))(state_matrix_3)\n",
    "print(state_matrix_3b)"
   ]
  },
  {
   "cell_type": "markdown",
   "id": "e159c00c-ffa0-465d-a131-cebc897ca6fc",
   "metadata": {},
   "source": [
    "### Round 3: Shift Rows"
   ]
  },
  {
   "cell_type": "code",
   "execution_count": 188,
   "id": "315b8eeb-12af-4f5d-9b33-e57d2fae9b12",
   "metadata": {},
   "outputs": [
    {
     "name": "stdout",
     "output_type": "stream",
     "text": [
      "[['1a' 'ab' '01' '27']\n",
      " ['5b' '30' '41' 'b4']\n",
      " ['e9' 'd2' 'd3' 'ba']\n",
      " ['9a' 'aa' 'e8' 'bb']]\n"
     ]
    }
   ],
   "source": [
    "state_matrix_3s = np.vstack([state_matrix_3b[0], np.roll(state_matrix_3b[1], 3), np.roll(state_matrix_3b[2], 2), np.roll(state_matrix_3b[3], 1)])\n",
    "\n",
    "print(state_matrix_3s)"
   ]
  },
  {
   "cell_type": "markdown",
   "id": "c7cbefe2-cc8f-4b34-9d1b-04af5717e004",
   "metadata": {},
   "source": [
    "### Round 3: Mix Columns"
   ]
  },
  {
   "cell_type": "code",
   "execution_count": 189,
   "id": "8ae9fe93-0c73-40bc-84c1-52f516adcab8",
   "metadata": {},
   "outputs": [
    {
     "name": "stdout",
     "output_type": "stream",
     "text": [
      "[['aa' '65' 'fa' '88']\n",
      " ['16' '0c' '05' '3a']\n",
      " ['3d' 'c1' 'de' '2a']\n",
      " ['b3' '4b' '5a' '0a']]\n"
     ]
    }
   ],
   "source": [
    "# Convert hex values of state_matrix_ls to binary\n",
    "state_matrix_3s_bin = np.apply_along_axis(hexlist_to_binarylist, axis = 1, arr= state_matrix_3s)\n",
    "\n",
    "# Convert hex values of mix_col_matrix to binary\n",
    "mix_col_matrix_bin = np.apply_along_axis(hexlist_to_binarylist, axis = 1, arr= mix_col_matrix)\n",
    "\n",
    "# Convert binary state_matrix to polynomial\n",
    "state_matrix_3s_poly = np.vectorize(binary_to_poly)(state_matrix_3s_bin)\n",
    "\n",
    "# Convert binary mix_col_matrix to polynomial\n",
    "mix_col_matrix_poly = np.vectorize(binary_to_poly)(mix_col_matrix_bin)\n",
    "\n",
    "# Perform matrix multiplication\n",
    "F2 = GF(2)  # Define GF(2)\n",
    "R.<x> = PolynomialRing(F2)\n",
    "aes_poly = x^8 + x^4 + x^3 + x + 1  # AES irreducible polynomial\n",
    "F.<a> = GF(2**8, modulus=aes_poly)  \n",
    "\n",
    "state_matrix_3m_bin = []\n",
    "for i in range(4):\n",
    "    rows = []\n",
    "    for j in range(4):\n",
    "        products = []\n",
    "        for k in range(4):\n",
    "            product = F(mix_col_matrix_poly[i, k]) * F(state_matrix_3s_poly[k, j])\n",
    "            product_bin = poly_to_binary(product)\n",
    "            products.append(product_bin)\n",
    "        rows.append(xor_binarylist(products))\n",
    "    state_matrix_3m_bin.append(rows)\n",
    "\n",
    "state_matrix_3m_bin = np.array(state_matrix_3m_bin)\n",
    "\n",
    "# Convert binary values of state matrix to hex values\n",
    "state_matrix_3m = np.apply_along_axis(binarylist_to_hexlist, axis = 1, arr = state_matrix_3m_bin)\n",
    "print(state_matrix_3m)"
   ]
  },
  {
   "cell_type": "markdown",
   "id": "856a0bb8-3015-49f1-afcd-aef0255f26d0",
   "metadata": {},
   "source": [
    "### Add Round Key (3)"
   ]
  },
  {
   "cell_type": "code",
   "execution_count": 190,
   "id": "bff59c5a-1666-48b2-8d44-9ec7035e1b3b",
   "metadata": {},
   "outputs": [
    {
     "name": "stdout",
     "output_type": "stream",
     "text": [
      "[['78' '70' '99' '4b']\n",
      " ['76' '76' '3c' '39']\n",
      " ['30' '7d' '37' '34']\n",
      " ['54' '23' '5b' 'f1']]\n"
     ]
    }
   ],
   "source": [
    "# Convert hexadecimal strings to integers\n",
    "state_matrix_3m_int = np.vectorize(lambda x: int(x, 16))(state_matrix_3m)\n",
    "round_key_3_int = np.vectorize(lambda x: int(x, 16))(round_keys[3])\n",
    "\n",
    "# Perform XOR operation\n",
    "xor_result_3 = np.bitwise_xor(state_matrix_3m_int, round_key_3_int)\n",
    "\n",
    "# Convert back to hex (formatted as two-character hex values)\n",
    "state_matrix_4 = np.vectorize(lambda x: format(x, '02x'))(xor_result_3)\n",
    "\n",
    "# Print the XOR matrix result\n",
    "print(state_matrix_4)"
   ]
  },
  {
   "cell_type": "markdown",
   "id": "6e9353f7-846b-4c3a-b081-0b0c9aa05ae4",
   "metadata": {},
   "source": [
    "### Round 4: Byte Substitution"
   ]
  },
  {
   "cell_type": "code",
   "execution_count": 191,
   "id": "1f5420d0-7cc8-4612-8ad4-0c900ab4b00e",
   "metadata": {},
   "outputs": [
    {
     "name": "stdout",
     "output_type": "stream",
     "text": [
      "[['bc' '51' 'ee' 'b3']\n",
      " ['38' '38' 'eb' '12']\n",
      " ['04' 'ff' '9a' '18']\n",
      " ['20' '26' '39' 'a1']]\n"
     ]
    }
   ],
   "source": [
    "state_matrix_4b = np.vectorize(lambda x: SBOX.get(x, '00'))(state_matrix_4)\n",
    "print(state_matrix_4b)"
   ]
  },
  {
   "cell_type": "markdown",
   "id": "23e5f822-ca41-463c-9e76-2f9b4d449ad1",
   "metadata": {},
   "source": [
    "### Round 4: Shift Rows"
   ]
  },
  {
   "cell_type": "code",
   "execution_count": 192,
   "id": "7ea9657c-6fa8-48e3-b1a2-c651df3e548f",
   "metadata": {},
   "outputs": [
    {
     "name": "stdout",
     "output_type": "stream",
     "text": [
      "[['bc' '51' 'ee' 'b3']\n",
      " ['38' 'eb' '12' '38']\n",
      " ['9a' '18' '04' 'ff']\n",
      " ['a1' '20' '26' '39']]\n"
     ]
    }
   ],
   "source": [
    "state_matrix_4s = np.vstack([state_matrix_4b[0], np.roll(state_matrix_4b[1], 3), np.roll(state_matrix_4b[2], 2), np.roll(state_matrix_4b[3], 1)])\n",
    "\n",
    "print(state_matrix_4s)"
   ]
  },
  {
   "cell_type": "markdown",
   "id": "02965c13-3e16-4a08-80a2-65ac5e5b8286",
   "metadata": {},
   "source": [
    "### Round 4: Mix Columns"
   ]
  },
  {
   "cell_type": "code",
   "execution_count": 193,
   "id": "7dc2a4a8-99d3-4190-8a7c-59c26a9e7092",
   "metadata": {},
   "outputs": [
    {
     "name": "stdout",
     "output_type": "stream",
     "text": [
      "[['10' 'bc' 'd3' 'f3']\n",
      " ['d8' '94' 'e0' 'e0']\n",
      " ['53' 'ea' '9e' '25']\n",
      " ['24' '40' '73' '7b']]\n"
     ]
    }
   ],
   "source": [
    "# Convert hex values of state_matrix_ls to binary\n",
    "state_matrix_4s_bin = np.apply_along_axis(hexlist_to_binarylist, axis = 1, arr= state_matrix_4s)\n",
    "\n",
    "# Convert hex values of mix_col_matrix to binary\n",
    "mix_col_matrix_bin = np.apply_along_axis(hexlist_to_binarylist, axis = 1, arr= mix_col_matrix)\n",
    "\n",
    "# Convert binary state_matrix to polynomial\n",
    "state_matrix_4s_poly = np.vectorize(binary_to_poly)(state_matrix_4s_bin)\n",
    "\n",
    "# Convert binary mix_col_matrix to polynomial\n",
    "mix_col_matrix_poly = np.vectorize(binary_to_poly)(mix_col_matrix_bin)\n",
    "\n",
    "# Perform matrix multiplication\n",
    "F2 = GF(2)  # Define GF(2)\n",
    "R.<x> = PolynomialRing(F2)\n",
    "aes_poly = x^8 + x^4 + x^3 + x + 1  # AES irreducible polynomial\n",
    "F.<a> = GF(2**8, modulus=aes_poly)  \n",
    "\n",
    "state_matrix_4m_bin = []\n",
    "for i in range(4):\n",
    "    rows = []\n",
    "    for j in range(4):\n",
    "        products = []\n",
    "        for k in range(4):\n",
    "            product = F(mix_col_matrix_poly[i, k]) * F(state_matrix_4s_poly[k, j])\n",
    "            product_bin = poly_to_binary(product)\n",
    "            products.append(product_bin)\n",
    "        rows.append(xor_binarylist(products))\n",
    "    state_matrix_4m_bin.append(rows)\n",
    "\n",
    "state_matrix_4m_bin = np.array(state_matrix_4m_bin)\n",
    "\n",
    "# Convert binary values of state matrix to hex values\n",
    "state_matrix_4m = np.apply_along_axis(binarylist_to_hexlist, axis = 1, arr = state_matrix_4m_bin)\n",
    "print(state_matrix_4m)"
   ]
  },
  {
   "cell_type": "markdown",
   "id": "c342947f-a7de-4cce-925e-680beb4f323f",
   "metadata": {},
   "source": [
    "### Add Round Key (4)"
   ]
  },
  {
   "cell_type": "code",
   "execution_count": 194,
   "id": "9044716a-0795-4cd6-97cf-42e057d72432",
   "metadata": {},
   "outputs": [
    {
     "name": "stdout",
     "output_type": "stream",
     "text": [
      "[['b1' '08' '04' 'e7']\n",
      " ['ca' 'fc' 'b1' 'b2']\n",
      " ['51' '54' 'c9' '6c']\n",
      " ['ed' 'e1' 'd3' '20']]\n"
     ]
    }
   ],
   "source": [
    "# Convert hexadecimal strings to integers\n",
    "state_matrix_4m_int = np.vectorize(lambda x: int(x, 16))(state_matrix_4m)\n",
    "round_key_4_int = np.vectorize(lambda x: int(x, 16))(round_keys[4])\n",
    "\n",
    "# Perform XOR operation\n",
    "xor_result_4 = np.bitwise_xor(state_matrix_4m_int, round_key_4_int)\n",
    "\n",
    "# Convert back to hex (formatted as two-character hex values)\n",
    "state_matrix_5 = np.vectorize(lambda x: format(x, '02x'))(xor_result_4)\n",
    "\n",
    "# Print the XOR matrix result\n",
    "print(state_matrix_5)"
   ]
  },
  {
   "cell_type": "markdown",
   "id": "c37c5b7d-8a60-4ab2-8ada-48dcfd0ec3b3",
   "metadata": {},
   "source": [
    "### Round 5: Byte Substitution"
   ]
  },
  {
   "cell_type": "code",
   "execution_count": 195,
   "id": "bc0e3f4d-b937-4ccf-a538-1dffebe0393e",
   "metadata": {},
   "outputs": [
    {
     "name": "stdout",
     "output_type": "stream",
     "text": [
      "[['c8' '30' 'f2' '94']\n",
      " ['74' 'b0' 'c8' '37']\n",
      " ['d1' '20' 'dd' '50']\n",
      " ['55' 'f8' '66' 'b7']]\n"
     ]
    }
   ],
   "source": [
    "state_matrix_5b = np.vectorize(lambda x: SBOX.get(x, '00'))(state_matrix_5)\n",
    "print(state_matrix_5b)"
   ]
  },
  {
   "cell_type": "markdown",
   "id": "1f803f53-69a7-4273-9922-69bbad38002b",
   "metadata": {},
   "source": [
    "### Round 5: Shift Rows"
   ]
  },
  {
   "cell_type": "code",
   "execution_count": 196,
   "id": "eebcecc7-d0b1-46c4-9a14-07da8ebe34fc",
   "metadata": {},
   "outputs": [
    {
     "name": "stdout",
     "output_type": "stream",
     "text": [
      "[['c8' '30' 'f2' '94']\n",
      " ['b0' 'c8' '37' '74']\n",
      " ['dd' '50' 'd1' '20']\n",
      " ['b7' '55' 'f8' '66']]\n"
     ]
    }
   ],
   "source": [
    "state_matrix_5s = np.vstack([state_matrix_5b[0], np.roll(state_matrix_5b[1], 3), np.roll(state_matrix_5b[2], 2), np.roll(state_matrix_5b[3], 1)])\n",
    "\n",
    "print(state_matrix_5s)"
   ]
  },
  {
   "cell_type": "markdown",
   "id": "c333f0e8-a059-4ab2-a243-ad56ed4e0da8",
   "metadata": {},
   "source": [
    "### Round 5: Mix Columns"
   ]
  },
  {
   "cell_type": "code",
   "execution_count": 197,
   "id": "3b8ce75e-159b-410d-8532-ce976205a3f8",
   "metadata": {},
   "outputs": [
    {
     "name": "stdout",
     "output_type": "stream",
     "text": [
      "[['2a' '26' '8f' 'e9']\n",
      " ['78' '1e' '0c' '7a']\n",
      " ['1b' 'a7' '6f' '0a']\n",
      " ['5b' '62' '00' '3f']]\n"
     ]
    }
   ],
   "source": [
    "# Convert hex values of state_matrix_ls to binary\n",
    "state_matrix_5s_bin = np.apply_along_axis(hexlist_to_binarylist, axis = 1, arr= state_matrix_5s)\n",
    "\n",
    "# Convert hex values of mix_col_matrix to binary\n",
    "mix_col_matrix_bin = np.apply_along_axis(hexlist_to_binarylist, axis = 1, arr= mix_col_matrix)\n",
    "\n",
    "# Convert binary state_matrix to polynomial\n",
    "state_matrix_5s_poly = np.vectorize(binary_to_poly)(state_matrix_5s_bin)\n",
    "\n",
    "# Convert binary mix_col_matrix to polynomial\n",
    "mix_col_matrix_poly = np.vectorize(binary_to_poly)(mix_col_matrix_bin)\n",
    "\n",
    "# Perform matrix multiplication\n",
    "F2 = GF(2)  # Define GF(2)\n",
    "R.<x> = PolynomialRing(F2)\n",
    "aes_poly = x^8 + x^4 + x^3 + x + 1  # AES irreducible polynomial\n",
    "F.<a> = GF(2**8, modulus=aes_poly)  \n",
    "\n",
    "state_matrix_5m_bin = []\n",
    "for i in range(4):\n",
    "    rows = []\n",
    "    for j in range(4):\n",
    "        products = []\n",
    "        for k in range(4):\n",
    "            product = F(mix_col_matrix_poly[i, k]) * F(state_matrix_5s_poly[k, j])\n",
    "            product_bin = poly_to_binary(product)\n",
    "            products.append(product_bin)\n",
    "        rows.append(xor_binarylist(products))\n",
    "    state_matrix_5m_bin.append(rows)\n",
    "\n",
    "state_matrix_5m_bin = np.array(state_matrix_5m_bin)\n",
    "\n",
    "# Convert binary values of state matrix to hex values\n",
    "state_matrix_5m = np.apply_along_axis(binarylist_to_hexlist, axis = 1, arr = state_matrix_5m_bin)\n",
    "print(state_matrix_5m)"
   ]
  },
  {
   "cell_type": "markdown",
   "id": "c29372b5-6591-48ac-b067-cb68d2de8fb7",
   "metadata": {},
   "source": [
    "### Add Round Key (5)"
   ]
  },
  {
   "cell_type": "code",
   "execution_count": 198,
   "id": "ce3b906d-d62f-4998-b5dc-66e564c6a0dd",
   "metadata": {},
   "outputs": [
    {
     "name": "stdout",
     "output_type": "stream",
     "text": [
      "[['9b' '23' '5d' '2f']\n",
      " ['51' '5f' '1c' '38']\n",
      " ['20' '22' 'bd' '91']\n",
      " ['68' 'f0' '32' '56']]\n"
     ]
    }
   ],
   "source": [
    "# Convert hexadecimal strings to integers\n",
    "state_matrix_5m_int = np.vectorize(lambda x: int(x, 16))(state_matrix_5m)\n",
    "round_key_5_int = np.vectorize(lambda x: int(x, 16))(round_keys[5])\n",
    "\n",
    "# Perform XOR operation\n",
    "xor_result_5 = np.bitwise_xor(state_matrix_5m_int, round_key_5_int)\n",
    "\n",
    "# Convert back to hex (formatted as two-character hex values)\n",
    "state_matrix_6 = np.vectorize(lambda x: format(x, '02x'))(xor_result_5)\n",
    "\n",
    "# Print the XOR matrix result\n",
    "print(state_matrix_6)"
   ]
  },
  {
   "cell_type": "markdown",
   "id": "57b89098-d634-447f-bc49-3b2fca3d1817",
   "metadata": {},
   "source": [
    "### Round 6: Byte Substitution"
   ]
  },
  {
   "cell_type": "code",
   "execution_count": 199,
   "id": "52d86e43-3fda-46d3-931f-7270b21f801e",
   "metadata": {},
   "outputs": [
    {
     "name": "stdout",
     "output_type": "stream",
     "text": [
      "[['14' '26' '4c' '15']\n",
      " ['d1' 'cf' '9c' '07']\n",
      " ['b7' '93' '7a' '81']\n",
      " ['45' '8c' '23' 'b1']]\n"
     ]
    }
   ],
   "source": [
    "state_matrix_6b = np.vectorize(lambda x: SBOX.get(x, '00'))(state_matrix_6)\n",
    "print(state_matrix_6b)"
   ]
  },
  {
   "cell_type": "markdown",
   "id": "df2baed2-80e7-4727-beab-25de020964f6",
   "metadata": {},
   "source": [
    "### Round 6: Shift Rows"
   ]
  },
  {
   "cell_type": "code",
   "execution_count": 200,
   "id": "cff0f7cf-c1ea-4399-afa9-6e78209effaf",
   "metadata": {},
   "outputs": [
    {
     "name": "stdout",
     "output_type": "stream",
     "text": [
      "[['14' '26' '4c' '15']\n",
      " ['cf' '9c' '07' 'd1']\n",
      " ['7a' '81' 'b7' '93']\n",
      " ['b1' '45' '8c' '23']]\n"
     ]
    }
   ],
   "source": [
    "state_matrix_6s = np.vstack([state_matrix_6b[0], np.roll(state_matrix_6b[1], 3), np.roll(state_matrix_6b[2], 2), np.roll(state_matrix_6b[3], 1)])\n",
    "\n",
    "print(state_matrix_6s)"
   ]
  },
  {
   "cell_type": "markdown",
   "id": "0ae87beb-0d42-45d2-96b6-006be78c2aa0",
   "metadata": {},
   "source": [
    "### Round 6: Mix Columns"
   ]
  },
  {
   "cell_type": "code",
   "execution_count": 201,
   "id": "d8015ebe-cc3b-4bb4-90be-e69c973e1492",
   "metadata": {},
   "outputs": [
    {
     "name": "stdout",
     "output_type": "stream",
     "text": [
      "[['a9' '37' 'aa' 'f2']\n",
      " ['ae' 'd8' '0c' '21']\n",
      " ['e7' '6c' 'b1' '9c']\n",
      " ['f0' 'fd' '67' '3b']]\n"
     ]
    }
   ],
   "source": [
    "# Convert hex values of state_matrix_ls to binary\n",
    "state_matrix_6s_bin = np.apply_along_axis(hexlist_to_binarylist, axis = 1, arr= state_matrix_6s)\n",
    "\n",
    "# Convert hex values of mix_col_matrix to binary\n",
    "mix_col_matrix_bin = np.apply_along_axis(hexlist_to_binarylist, axis = 1, arr= mix_col_matrix)\n",
    "\n",
    "# Convert binary state_matrix to polynomial\n",
    "state_matrix_6s_poly = np.vectorize(binary_to_poly)(state_matrix_6s_bin)\n",
    "\n",
    "# Convert binary mix_col_matrix to polynomial\n",
    "mix_col_matrix_poly = np.vectorize(binary_to_poly)(mix_col_matrix_bin)\n",
    "\n",
    "# Perform matrix multiplication\n",
    "F2 = GF(2)  # Define GF(2)\n",
    "R.<x> = PolynomialRing(F2)\n",
    "aes_poly = x^8 + x^4 + x^3 + x + 1  # AES irreducible polynomial\n",
    "F.<a> = GF(2**8, modulus=aes_poly)  \n",
    "\n",
    "state_matrix_6m_bin = []\n",
    "for i in range(4):\n",
    "    rows = []\n",
    "    for j in range(4):\n",
    "        products = []\n",
    "        for k in range(4):\n",
    "            product = F(mix_col_matrix_poly[i, k]) * F(state_matrix_6s_poly[k, j])\n",
    "            product_bin = poly_to_binary(product)\n",
    "            products.append(product_bin)\n",
    "        rows.append(xor_binarylist(products))\n",
    "    state_matrix_6m_bin.append(rows)\n",
    "\n",
    "state_matrix_6m_bin = np.array(state_matrix_6m_bin)\n",
    "\n",
    "# Convert binary values of state matrix to hex values\n",
    "state_matrix_6m = np.apply_along_axis(binarylist_to_hexlist, axis = 1, arr = state_matrix_6m_bin)\n",
    "print(state_matrix_6m)"
   ]
  },
  {
   "cell_type": "markdown",
   "id": "349f9360-5cc1-4d12-97ff-c7373efd6852",
   "metadata": {},
   "source": [
    "### Add Round Key (6)"
   ]
  },
  {
   "cell_type": "code",
   "execution_count": 202,
   "id": "31873ff3-375a-45bf-9591-29a624dd6a08",
   "metadata": {},
   "outputs": [
    {
     "name": "stdout",
     "output_type": "stream",
     "text": [
      "[['14' '8f' 'c0' '5e']\n",
      " ['93' 'a4' '60' '0f']\n",
      " ['25' '2b' '24' '92']\n",
      " ['77' 'e8' '40' '75']]\n"
     ]
    }
   ],
   "source": [
    "# Convert hexadecimal strings to integers\n",
    "state_matrix_6m_int = np.vectorize(lambda x: int(x, 16))(state_matrix_6m)\n",
    "round_key_6_int = np.vectorize(lambda x: int(x, 16))(round_keys[6])\n",
    "\n",
    "# Perform XOR operation\n",
    "xor_result_6 = np.bitwise_xor(state_matrix_6m_int, round_key_6_int)\n",
    "\n",
    "# Convert back to hex (formatted as two-character hex values)\n",
    "state_matrix_7 = np.vectorize(lambda x: format(x, '02x'))(xor_result_6)\n",
    "\n",
    "# Print the XOR matrix result\n",
    "print(state_matrix_7)"
   ]
  },
  {
   "cell_type": "markdown",
   "id": "a2cae003-ff60-41de-86fa-7fe3c988cdfa",
   "metadata": {},
   "source": [
    "### Round 7: Byte Subsitution"
   ]
  },
  {
   "cell_type": "code",
   "execution_count": 203,
   "id": "661f808f-3a20-482c-b553-a703d7d0f8c4",
   "metadata": {},
   "outputs": [
    {
     "name": "stdout",
     "output_type": "stream",
     "text": [
      "[['fa' '73' 'ba' '58']\n",
      " ['dc' '49' 'd0' '76']\n",
      " ['3f' 'f1' '36' '4f']\n",
      " ['f5' '9b' '09' '9d']]\n"
     ]
    }
   ],
   "source": [
    "state_matrix_7b = np.vectorize(lambda x: SBOX.get(x, '00'))(state_matrix_7)\n",
    "print(state_matrix_7b)"
   ]
  },
  {
   "cell_type": "markdown",
   "id": "13f003b1-11e0-4956-902b-7c5c6a87b4bc",
   "metadata": {},
   "source": [
    "### Round 7: Shift Rows"
   ]
  },
  {
   "cell_type": "code",
   "execution_count": 204,
   "id": "38606d1c-b92e-4d46-a4bc-967f303f8b4d",
   "metadata": {},
   "outputs": [
    {
     "name": "stdout",
     "output_type": "stream",
     "text": [
      "[['fa' '73' 'ba' '58']\n",
      " ['49' 'd0' '76' 'dc']\n",
      " ['36' '4f' '3f' 'f1']\n",
      " ['9d' 'f5' '9b' '09']]\n"
     ]
    }
   ],
   "source": [
    "state_matrix_7s = np.vstack([state_matrix_7b[0], np.roll(state_matrix_7b[1], 3), np.roll(state_matrix_7b[2], 2), np.roll(state_matrix_7b[3], 1)])\n",
    "\n",
    "print(state_matrix_7s)"
   ]
  },
  {
   "cell_type": "markdown",
   "id": "81e00b18-379e-45cf-a964-073eb06d8957",
   "metadata": {},
   "source": [
    "### Round 7: Mix Columns"
   ]
  },
  {
   "cell_type": "code",
   "execution_count": 205,
   "id": "b2efb8b8-d17c-4ad3-aa24-b9892af1ddde",
   "metadata": {},
   "outputs": [
    {
     "name": "stdout",
     "output_type": "stream",
     "text": [
      "[['9f' '37' '51' '37']\n",
      " ['af' 'ec' '8c' 'fa']\n",
      " ['63' '39' '04' '66']\n",
      " ['4b' 'fb' 'b1' 'd7']]\n"
     ]
    }
   ],
   "source": [
    "# Convert hex values of state_matrix_ls to binary\n",
    "state_matrix_7s_bin = np.apply_along_axis(hexlist_to_binarylist, axis = 1, arr= state_matrix_7s)\n",
    "\n",
    "# Convert hex values of mix_col_matrix to binary\n",
    "mix_col_matrix_bin = np.apply_along_axis(hexlist_to_binarylist, axis = 1, arr= mix_col_matrix)\n",
    "\n",
    "# Convert binary state_matrix to polynomial\n",
    "state_matrix_7s_poly = np.vectorize(binary_to_poly)(state_matrix_7s_bin)\n",
    "\n",
    "# Convert binary mix_col_matrix to polynomial\n",
    "mix_col_matrix_poly = np.vectorize(binary_to_poly)(mix_col_matrix_bin)\n",
    "\n",
    "# Perform matrix multiplication\n",
    "F2 = GF(2)  # Define GF(2)\n",
    "R.<x> = PolynomialRing(F2)\n",
    "aes_poly = x^8 + x^4 + x^3 + x + 1  # AES irreducible polynomial\n",
    "F.<a> = GF(2**8, modulus=aes_poly)  \n",
    "\n",
    "state_matrix_7m_bin = []\n",
    "for i in range(4):\n",
    "    rows = []\n",
    "    for j in range(4):\n",
    "        products = []\n",
    "        for k in range(4):\n",
    "            product = F(mix_col_matrix_poly[i, k]) * F(state_matrix_7s_poly[k, j])\n",
    "            product_bin = poly_to_binary(product)\n",
    "            products.append(product_bin)\n",
    "        rows.append(xor_binarylist(products))\n",
    "    state_matrix_7m_bin.append(rows)\n",
    "\n",
    "state_matrix_7m_bin = np.array(state_matrix_7m_bin)\n",
    "\n",
    "# Convert binary values of state matrix to hex values\n",
    "state_matrix_7m = np.apply_along_axis(binarylist_to_hexlist, axis = 1, arr = state_matrix_7m_bin)\n",
    "print(state_matrix_7m)"
   ]
  },
  {
   "cell_type": "markdown",
   "id": "4164b734-0565-4b34-a332-68079928483a",
   "metadata": {},
   "source": [
    "### Add Round Key (7)"
   ]
  },
  {
   "cell_type": "code",
   "execution_count": 206,
   "id": "ec833a4b-89af-4043-9bc8-a148ec859f3c",
   "metadata": {},
   "outputs": [
    {
     "name": "stdout",
     "output_type": "stream",
     "text": [
      "[['53' '43' '4f' '85']\n",
      " ['39' '06' '0a' '52']\n",
      " ['8e' '93' '3b' '57']\n",
      " ['5d' 'f8' '95' 'bd']]\n"
     ]
    }
   ],
   "source": [
    "# Convert hexadecimal strings to integers\n",
    "state_matrix_7m_int = np.vectorize(lambda x: int(x, 16))(state_matrix_7m)\n",
    "round_key_7_int = np.vectorize(lambda x: int(x, 16))(round_keys[7])\n",
    "\n",
    "# Perform XOR operation\n",
    "xor_result_7 = np.bitwise_xor(state_matrix_7m_int, round_key_7_int)\n",
    "\n",
    "# Convert back to hex (formatted as two-character hex values)\n",
    "state_matrix_8 = np.vectorize(lambda x: format(x, '02x'))(xor_result_7)\n",
    "\n",
    "# Print the XOR matrix result\n",
    "print(state_matrix_8)"
   ]
  },
  {
   "cell_type": "markdown",
   "id": "ba6ffb04-c5a0-4953-99bf-765fb76f617b",
   "metadata": {},
   "source": [
    "### Round 8: Byte Substitution"
   ]
  },
  {
   "cell_type": "code",
   "execution_count": 207,
   "id": "e9817271-136c-488c-933b-cd1374f0bf2f",
   "metadata": {},
   "outputs": [
    {
     "name": "stdout",
     "output_type": "stream",
     "text": [
      "[['ed' '1a' '84' '97']\n",
      " ['12' '6f' '67' '00']\n",
      " ['19' 'dc' 'e2' '5b']\n",
      " ['4c' '41' '2a' '7a']]\n"
     ]
    }
   ],
   "source": [
    "state_matrix_8b = np.vectorize(lambda x: SBOX.get(x, '00'))(state_matrix_8)\n",
    "print(state_matrix_8b)"
   ]
  },
  {
   "cell_type": "markdown",
   "id": "ada998e7-69c9-417f-8b77-b09e8e1fa70a",
   "metadata": {},
   "source": [
    "### Round 8: Shift Rows"
   ]
  },
  {
   "cell_type": "code",
   "execution_count": 208,
   "id": "4e2bd66c-6967-4cc2-a184-30b06e4f07bb",
   "metadata": {},
   "outputs": [
    {
     "name": "stdout",
     "output_type": "stream",
     "text": [
      "[['ed' '1a' '84' '97']\n",
      " ['6f' '67' '00' '12']\n",
      " ['e2' '5b' '19' 'dc']\n",
      " ['7a' '4c' '41' '2a']]\n"
     ]
    }
   ],
   "source": [
    "state_matrix_8s = np.vstack([state_matrix_8b[0], np.roll(state_matrix_8b[1], 3), np.roll(state_matrix_8b[2], 2), np.roll(state_matrix_8b[3], 1)])\n",
    "\n",
    "print(state_matrix_8s)"
   ]
  },
  {
   "cell_type": "markdown",
   "id": "08d7184a-6533-4ce2-9ba0-72718758afd2",
   "metadata": {},
   "source": [
    "### Round 8: Mix Columns"
   ]
  },
  {
   "cell_type": "code",
   "execution_count": 209,
   "id": "c6d57d6e-3fdc-4aa6-b015-d43ca06c3f29",
   "metadata": {},
   "outputs": [
    {
     "name": "stdout",
     "output_type": "stream",
     "text": [
      "[['e8' '8a' '4b' 'f5']\n",
      " ['74' '75' 'ee' 'e6']\n",
      " ['d3' '1f' '75' '58']\n",
      " ['55' '8a' '0c' '38']]\n"
     ]
    }
   ],
   "source": [
    "# Convert hex values of state_matrix_ls to binary\n",
    "state_matrix_8s_bin = np.apply_along_axis(hexlist_to_binarylist, axis = 1, arr= state_matrix_8s)\n",
    "\n",
    "# Convert hex values of mix_col_matrix to binary\n",
    "mix_col_matrix_bin = np.apply_along_axis(hexlist_to_binarylist, axis = 1, arr= mix_col_matrix)\n",
    "\n",
    "# Convert binary state_matrix to polynomial\n",
    "state_matrix_8s_poly = np.vectorize(binary_to_poly)(state_matrix_8s_bin)\n",
    "\n",
    "# Convert binary mix_col_matrix to polynomial\n",
    "mix_col_matrix_poly = np.vectorize(binary_to_poly)(mix_col_matrix_bin)\n",
    "\n",
    "# Perform matrix multiplication\n",
    "F2 = GF(2)  # Define GF(2)\n",
    "R.<x> = PolynomialRing(F2)\n",
    "aes_poly = x^8 + x^4 + x^3 + x + 1  # AES irreducible polynomial\n",
    "F.<a> = GF(2**8, modulus=aes_poly)  \n",
    "\n",
    "state_matrix_8m_bin = []\n",
    "for i in range(4):\n",
    "    rows = []\n",
    "    for j in range(4):\n",
    "        products = []\n",
    "        for k in range(4):\n",
    "            product = F(mix_col_matrix_poly[i, k]) * F(state_matrix_8s_poly[k, j])\n",
    "            product_bin = poly_to_binary(product)\n",
    "            products.append(product_bin)\n",
    "        rows.append(xor_binarylist(products))\n",
    "    state_matrix_8m_bin.append(rows)\n",
    "\n",
    "state_matrix_8m_bin = np.array(state_matrix_8m_bin)\n",
    "\n",
    "# Convert binary values of state matrix to hex values\n",
    "state_matrix_8m = np.apply_along_axis(binarylist_to_hexlist, axis = 1, arr = state_matrix_8m_bin)\n",
    "print(state_matrix_8m)"
   ]
  },
  {
   "cell_type": "markdown",
   "id": "09e0f231-f47c-47a5-86fc-e97ebe2ae910",
   "metadata": {},
   "source": [
    "### Add Round Key (8)"
   ]
  },
  {
   "cell_type": "code",
   "execution_count": 210,
   "id": "2c8c5e39-38dd-4181-a90d-6a4e8497d110",
   "metadata": {},
   "outputs": [
    {
     "name": "stdout",
     "output_type": "stream",
     "text": [
      "[['66' '70' 'af' 'a3']\n",
      " ['25' 'ce' 'd3' '73']\n",
      " ['3c' '5a' '0f' '13']\n",
      " ['74' 'a8' '0a' '54']]\n"
     ]
    }
   ],
   "source": [
    "# Convert hexadecimal strings to integers\n",
    "state_matrix_8m_int = np.vectorize(lambda x: int(x, 16))(state_matrix_8m)\n",
    "round_key_8_int = np.vectorize(lambda x: int(x, 16))(round_keys[8])\n",
    "\n",
    "# Perform XOR operation\n",
    "xor_result_8 = np.bitwise_xor(state_matrix_8m_int, round_key_8_int)\n",
    "\n",
    "# Convert back to hex (formatted as two-character hex values)\n",
    "state_matrix_9 = np.vectorize(lambda x: format(x, '02x'))(xor_result_8)\n",
    "\n",
    "# Print the XOR matrix result\n",
    "print(state_matrix_9)"
   ]
  },
  {
   "cell_type": "markdown",
   "id": "5ccd5b13-a5f3-4d13-9b6b-8d1a21a61832",
   "metadata": {},
   "source": [
    "### Round 9: Byte Substitution"
   ]
  },
  {
   "cell_type": "code",
   "execution_count": 211,
   "id": "35eec477-b5b0-4071-8a6f-28f1e8c30a19",
   "metadata": {},
   "outputs": [
    {
     "name": "stdout",
     "output_type": "stream",
     "text": [
      "[['33' '51' '79' '0a']\n",
      " ['3f' '8b' '66' '8f']\n",
      " ['eb' 'be' '76' '7d']\n",
      " ['92' 'c2' '67' '20']]\n"
     ]
    }
   ],
   "source": [
    "state_matrix_9b = np.vectorize(lambda x: SBOX.get(x, '00'))(state_matrix_9)\n",
    "print(state_matrix_9b)"
   ]
  },
  {
   "cell_type": "markdown",
   "id": "e70eda15-d184-43d7-8839-36b28fb6b7a9",
   "metadata": {},
   "source": [
    "### Round 9: Shift Rows"
   ]
  },
  {
   "cell_type": "code",
   "execution_count": 212,
   "id": "9c202480-fab3-4114-8ee6-2bade41ec7dc",
   "metadata": {},
   "outputs": [
    {
     "name": "stdout",
     "output_type": "stream",
     "text": [
      "[['33' '51' '79' '0a']\n",
      " ['8b' '66' '8f' '3f']\n",
      " ['76' '7d' 'eb' 'be']\n",
      " ['20' '92' 'c2' '67']]\n"
     ]
    }
   ],
   "source": [
    "state_matrix_9s = np.vstack([state_matrix_9b[0], np.roll(state_matrix_9b[1], 3), np.roll(state_matrix_9b[2], 2), np.roll(state_matrix_9b[3], 1)])\n",
    "\n",
    "print(state_matrix_9s)"
   ]
  },
  {
   "cell_type": "markdown",
   "id": "9495c861-7e25-4edc-8610-95241ab29a17",
   "metadata": {},
   "source": [
    "### Round 9: Mix Columns"
   ]
  },
  {
   "cell_type": "code",
   "execution_count": 213,
   "id": "7d49d442-1632-436b-8f93-b00beb4e4dfa",
   "metadata": {},
   "outputs": [
    {
     "name": "stdout",
     "output_type": "stream",
     "text": [
      "[['b6' 'e7' '51' '8c']\n",
      " ['84' '88' '98' 'ca']\n",
      " ['34' '60' '66' 'fb']\n",
      " ['e8' 'd7' '70' '51']]\n"
     ]
    }
   ],
   "source": [
    "# Convert hex values of state_matrix_ls to binary\n",
    "state_matrix_9s_bin = np.apply_along_axis(hexlist_to_binarylist, axis = 1, arr= state_matrix_9s)\n",
    "\n",
    "# Convert hex values of mix_col_matrix to binary\n",
    "mix_col_matrix_bin = np.apply_along_axis(hexlist_to_binarylist, axis = 1, arr= mix_col_matrix)\n",
    "\n",
    "# Convert binary state_matrix to polynomial\n",
    "state_matrix_9s_poly = np.vectorize(binary_to_poly)(state_matrix_9s_bin)\n",
    "\n",
    "# Convert binary mix_col_matrix to polynomial\n",
    "mix_col_matrix_poly = np.vectorize(binary_to_poly)(mix_col_matrix_bin)\n",
    "\n",
    "# Perform matrix multiplication\n",
    "F2 = GF(2)  # Define GF(2)\n",
    "R.<x> = PolynomialRing(F2)\n",
    "aes_poly = x^8 + x^4 + x^3 + x + 1  # AES irreducible polynomial\n",
    "F.<a> = GF(2**8, modulus=aes_poly)  \n",
    "\n",
    "state_matrix_9m_bin = []\n",
    "for i in range(4):\n",
    "    rows = []\n",
    "    for j in range(4):\n",
    "        products = []\n",
    "        for k in range(4):\n",
    "            product = F(mix_col_matrix_poly[i, k]) * F(state_matrix_9s_poly[k, j])\n",
    "            product_bin = poly_to_binary(product)\n",
    "            products.append(product_bin)\n",
    "        rows.append(xor_binarylist(products))\n",
    "    state_matrix_9m_bin.append(rows)\n",
    "\n",
    "state_matrix_9m_bin = np.array(state_matrix_9m_bin)\n",
    "\n",
    "# Convert binary values of state matrix to hex values\n",
    "state_matrix_9m = np.apply_along_axis(binarylist_to_hexlist, axis = 1, arr = state_matrix_9m_bin)\n",
    "print(state_matrix_9m)"
   ]
  },
  {
   "cell_type": "markdown",
   "id": "e98f1746-0ce2-4f3d-8fff-e103cc6341c1",
   "metadata": {},
   "source": [
    "### Add Round Key (9)"
   ]
  },
  {
   "cell_type": "code",
   "execution_count": 214,
   "id": "623fe131-16fd-40b9-9d5f-45eaf0b62835",
   "metadata": {},
   "outputs": [
    {
     "name": "stdout",
     "output_type": "stream",
     "text": [
      "[['09' 'a2' 'f0' '7b']\n",
      " ['66' 'd1' 'fc' '3b']\n",
      " ['8b' '9a' 'e6' '30']\n",
      " ['78' '65' 'c4' '89']]\n"
     ]
    }
   ],
   "source": [
    "# Convert hexadecimal strings to integers\n",
    "state_matrix_9m_int = np.vectorize(lambda x: int(x, 16))(state_matrix_9m)\n",
    "round_key_9_int = np.vectorize(lambda x: int(x, 16))(round_keys[9])\n",
    "\n",
    "# Perform XOR operation\n",
    "xor_result_9 = np.bitwise_xor(state_matrix_9m_int, round_key_9_int)\n",
    "\n",
    "# Convert back to hex (formatted as two-character hex values)\n",
    "state_matrix_10 = np.vectorize(lambda x: format(x, '02x'))(xor_result_9)\n",
    "\n",
    "# Print the XOR matrix result\n",
    "print(state_matrix_10)"
   ]
  },
  {
   "cell_type": "markdown",
   "id": "47b50ff6-73d6-49a1-a6fc-d4308a9527da",
   "metadata": {},
   "source": [
    "### Round 10: Byte Substitution"
   ]
  },
  {
   "cell_type": "code",
   "execution_count": 215,
   "id": "a7ad7919-05a9-439b-84a5-9a61894ccea5",
   "metadata": {},
   "outputs": [
    {
     "name": "stdout",
     "output_type": "stream",
     "text": [
      "[['01' '3a' '8c' '21']\n",
      " ['33' '3e' 'b0' 'e2']\n",
      " ['3d' 'b8' '8e' '04']\n",
      " ['bc' '4d' '1c' 'a7']]\n"
     ]
    }
   ],
   "source": [
    "state_matrix_10b = np.vectorize(lambda x: SBOX.get(x, '00'))(state_matrix_10)\n",
    "print(state_matrix_10b)"
   ]
  },
  {
   "cell_type": "markdown",
   "id": "68a1504d-1656-413f-b3f1-b68aab1da905",
   "metadata": {},
   "source": [
    "### Round 10: Shift Rows"
   ]
  },
  {
   "cell_type": "code",
   "execution_count": 216,
   "id": "39469c3a-0fd0-4c3b-a885-ecf21d93f399",
   "metadata": {},
   "outputs": [
    {
     "name": "stdout",
     "output_type": "stream",
     "text": [
      "[['01' '3a' '8c' '21']\n",
      " ['3e' 'b0' 'e2' '33']\n",
      " ['8e' '04' '3d' 'b8']\n",
      " ['a7' 'bc' '4d' '1c']]\n"
     ]
    }
   ],
   "source": [
    "state_matrix_10s = np.vstack([state_matrix_10b[0], np.roll(state_matrix_10b[1], 3), np.roll(state_matrix_10b[2], 2), np.roll(state_matrix_10b[3], 1)])\n",
    "\n",
    "print(state_matrix_10s)"
   ]
  },
  {
   "cell_type": "markdown",
   "id": "aa12d3fd-dfe1-44a8-9fea-7dae30447615",
   "metadata": {},
   "source": [
    "### Add Round Key (10)\n",
    "Note: No mix columns in the last round"
   ]
  },
  {
   "cell_type": "code",
   "execution_count": 220,
   "id": "db176f7b-2662-43b9-8a48-7ca87cdae628",
   "metadata": {},
   "outputs": [
    {
     "name": "stdout",
     "output_type": "stream",
     "text": [
      "[['29' '57' '40' '1a']\n",
      " ['c3' '14' '22' '02']\n",
      " ['50' '20' '99' 'd7']\n",
      " ['5f' 'f6' 'b3' '3a']]\n"
     ]
    }
   ],
   "source": [
    "# Convert hexadecimal strings to integers\n",
    "state_matrix_10m_int = np.vectorize(lambda x: int(x, 16))(state_matrix_10s)\n",
    "round_key_10_int = np.vectorize(lambda x: int(x, 16))(round_keys[10])\n",
    "\n",
    "# Perform XOR operation\n",
    "xor_result_10 = np.bitwise_xor(state_matrix_10m_int, round_key_10_int)\n",
    "\n",
    "# Convert back to hex (formatted as two-character hex values)\n",
    "state_matrix_fin = np.vectorize(lambda x: format(x, '02x'))(xor_result_10)\n",
    "\n",
    "# Print the XOR matrix result\n",
    "print(state_matrix_fin)"
   ]
  },
  {
   "cell_type": "markdown",
   "id": "47d526cf-17d8-46f1-a5ee-8618c9960e23",
   "metadata": {},
   "source": [
    "### The Resulting Cipher Text"
   ]
  },
  {
   "cell_type": "code",
   "execution_count": 222,
   "id": "0fa63e9c-81dc-490f-a624-dee3b1c886e3",
   "metadata": {},
   "outputs": [
    {
     "name": "stdout",
     "output_type": "stream",
     "text": [
      "29c3505f571420f6402299b31a02d73a\n"
     ]
    }
   ],
   "source": [
    "ciphertext = ''.join(state_matrix_fin.flatten(order = 'F'))\n",
    "print(ciphertext)"
   ]
  }
 ],
 "metadata": {
  "kernelspec": {
   "display_name": "SageMath 10.5",
   "language": "sage",
   "name": "sagemath"
  },
  "language_info": {
   "codemirror_mode": {
    "name": "ipython",
    "version": 3
   },
   "file_extension": ".py",
   "mimetype": "text/x-python",
   "name": "python",
   "nbconvert_exporter": "python",
   "pygments_lexer": "ipython3",
   "version": "3.12.9"
  }
 },
 "nbformat": 4,
 "nbformat_minor": 5
}
