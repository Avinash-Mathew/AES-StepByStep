{
 "cells": [
  {
   "cell_type": "code",
   "execution_count": 112,
   "id": "5a6ffcf8-2ad5-4cb2-9d47-2299b0c7b79e",
   "metadata": {},
   "outputs": [
    {
     "name": "stdout",
     "output_type": "stream",
     "text": [
      "[[1 1]\n",
      " [1 0]]\n",
      "[['01' '00']\n",
      " ['01' '00']]\n"
     ]
    }
   ],
   "source": [
    "import numpy as np\n",
    "\n",
    "F2 = GF(2)  \n",
    "\n",
    "# Define the polynomial ring over GF(2)\n",
    "R.<x> = PolynomialRing(F2)\n",
    "\n",
    "# Define the finite field GF(2^8) with AES polynomial x^8 + x^4 + x^3 + x + 1 (0x11B)\n",
    "F.<x> = GF(2**8, name='a', modulus=x^8 + x^4 + x^3 + x + 1)\n",
    "\n",
    "# Example NumPy arrays with hex strings\n",
    "arr1 = np.array([[\"57\", \"83\"], [\"1D\", \"C4\"]], dtype=str)\n",
    "arr2 = np.array([[\"13\", \"AC\"], [\"F3\", \"09\"]], dtype=str)\n",
    "\n",
    "# Convert hex strings to finite field elements in Sage\n",
    "int_arr1 = np.vectorize(lambda x: F(int(x, 16)))(arr1)\n",
    "int_arr2 = np.vectorize(lambda x: F(int(x, 16)))(arr2)\n",
    "\n",
    "print(int_arr1)\n",
    "\n",
    "# Perform GF(2^8) multiplication using SageMath\n",
    "result = int_arr1 * int_arr2\n",
    "\n",
    "# Convert results back to hex strings\n",
    "result_hex = np.vectorize(lambda x: format(int(x), '02X'))(result)\n",
    "\n",
    "print(result_hex)"
   ]
  }
 ],
 "metadata": {
  "kernelspec": {
   "display_name": "SageMath 10.5",
   "language": "sage",
   "name": "sagemath"
  },
  "language_info": {
   "codemirror_mode": {
    "name": "ipython",
    "version": 3
   },
   "file_extension": ".py",
   "mimetype": "text/x-python",
   "name": "python",
   "nbconvert_exporter": "python",
   "pygments_lexer": "ipython3",
   "version": "3.12.9"
  }
 },
 "nbformat": 4,
 "nbformat_minor": 5
}
